{
  "nbformat": 4,
  "nbformat_minor": 0,
  "metadata": {
    "colab": {
      "provenance": []
    },
    "kernelspec": {
      "name": "python3",
      "display_name": "Python 3"
    },
    "language_info": {
      "name": "python"
    }
  },
  "cells": [
    {
      "cell_type": "code",
      "execution_count": 1,
      "metadata": {
        "colab": {
          "base_uri": "https://localhost:8080/"
        },
        "id": "C7R-lEbTYGQC",
        "outputId": "dd3fe7b5-1622-4b66-f2fd-c6b86be857c2"
      },
      "outputs": [
        {
          "output_type": "stream",
          "name": "stdout",
          "text": [
            "Collecting ucimlrepo\n",
            "  Downloading ucimlrepo-0.0.7-py3-none-any.whl.metadata (5.5 kB)\n",
            "Requirement already satisfied: pandas>=1.0.0 in /usr/local/lib/python3.10/dist-packages (from ucimlrepo) (2.1.4)\n",
            "Requirement already satisfied: certifi>=2020.12.5 in /usr/local/lib/python3.10/dist-packages (from ucimlrepo) (2024.8.30)\n",
            "Requirement already satisfied: numpy<2,>=1.22.4 in /usr/local/lib/python3.10/dist-packages (from pandas>=1.0.0->ucimlrepo) (1.26.4)\n",
            "Requirement already satisfied: python-dateutil>=2.8.2 in /usr/local/lib/python3.10/dist-packages (from pandas>=1.0.0->ucimlrepo) (2.8.2)\n",
            "Requirement already satisfied: pytz>=2020.1 in /usr/local/lib/python3.10/dist-packages (from pandas>=1.0.0->ucimlrepo) (2024.1)\n",
            "Requirement already satisfied: tzdata>=2022.1 in /usr/local/lib/python3.10/dist-packages (from pandas>=1.0.0->ucimlrepo) (2024.1)\n",
            "Requirement already satisfied: six>=1.5 in /usr/local/lib/python3.10/dist-packages (from python-dateutil>=2.8.2->pandas>=1.0.0->ucimlrepo) (1.16.0)\n",
            "Downloading ucimlrepo-0.0.7-py3-none-any.whl (8.0 kB)\n",
            "Installing collected packages: ucimlrepo\n",
            "Successfully installed ucimlrepo-0.0.7\n"
          ]
        }
      ],
      "source": [
        "pip install ucimlrepo"
      ]
    },
    {
      "cell_type": "code",
      "source": [
        "from ucimlrepo import fetch_ucirepo\n",
        "\n",
        "# fetch dataset\n",
        "online_retail = fetch_ucirepo(id=352)\n",
        "\n",
        "# data (as pandas dataframes)\n",
        "X = online_retail.data.features\n",
        "y = online_retail.data.targets\n",
        "\n",
        "# metadata\n",
        "print(online_retail.metadata)\n",
        "\n",
        "# variable information\n",
        "print(online_retail.variables)\n"
      ],
      "metadata": {
        "colab": {
          "base_uri": "https://localhost:8080/"
        },
        "id": "RivNK-ixYfwS",
        "outputId": "706155a6-5386-4b10-b088-6aadc240e2e6"
      },
      "execution_count": 8,
      "outputs": [
        {
          "output_type": "stream",
          "name": "stdout",
          "text": [
            "{'uci_id': 352, 'name': 'Online Retail', 'repository_url': 'https://archive.ics.uci.edu/dataset/352/online+retail', 'data_url': 'https://archive.ics.uci.edu/static/public/352/data.csv', 'abstract': 'This is a transnational data set which contains all the transactions occurring between 01/12/2010 and 09/12/2011 for a UK-based and registered non-store online retail.', 'area': 'Business', 'tasks': ['Classification', 'Clustering'], 'characteristics': ['Multivariate', 'Sequential', 'Time-Series'], 'num_instances': 541909, 'num_features': 6, 'feature_types': ['Integer', 'Real'], 'demographics': [], 'target_col': None, 'index_col': ['InvoiceNo', 'StockCode'], 'has_missing_values': 'no', 'missing_values_symbol': None, 'year_of_dataset_creation': 2015, 'last_updated': 'Fri Jan 05 2024', 'dataset_doi': '10.24432/C5BW33', 'creators': ['Daqing Chen'], 'intro_paper': {'title': 'Data mining for the online retail industry: A case study of RFM model-based customer segmentation using data mining', 'authors': 'Daqing Chen, Sai Laing Sain, Kun Guo', 'published_in': 'Journal of Database Marketing and Customer Strategy Management, Vol. 19, No. 3', 'year': 2012, 'url': 'https://www.semanticscholar.org/paper/e43a5a90fa33d419df42e485099f8f08badf2149', 'doi': '10.1057/dbm.2012.17'}, 'additional_info': {'summary': 'This is a transnational data set which contains all the transactions occurring between 01/12/2010 and 09/12/2011 for a UK-based and registered non-store online retail.The company mainly sells unique all-occasion gifts. Many customers of the company are wholesalers.', 'purpose': None, 'funded_by': None, 'instances_represent': None, 'recommended_data_splits': None, 'sensitive_data': None, 'preprocessing_description': None, 'variable_info': \"InvoiceNo: Invoice number. Nominal, a 6-digit integral number uniquely assigned to each transaction. If this code starts with letter 'c', it indicates a cancellation. \\nStockCode: Product (item) code. Nominal, a 5-digit integral number uniquely assigned to each distinct product.\\nDescription: Product (item) name. Nominal.\\nQuantity: The quantities of each product (item) per transaction. Numeric.\\t\\nInvoiceDate: Invoice Date and time. Numeric, the day and time when each transaction was generated.\\nUnitPrice: Unit price. Numeric, Product price per unit in sterling.\\nCustomerID: Customer number. Nominal, a 5-digit integral number uniquely assigned to each customer.\\nCountry: Country name. Nominal, the name of the country where each customer resides. \", 'citation': None}}\n",
            "          name     role         type demographic  \\\n",
            "0    InvoiceNo       ID  Categorical        None   \n",
            "1    StockCode       ID  Categorical        None   \n",
            "2  Description  Feature  Categorical        None   \n",
            "3     Quantity  Feature      Integer        None   \n",
            "4  InvoiceDate  Feature         Date        None   \n",
            "5    UnitPrice  Feature   Continuous        None   \n",
            "6   CustomerID  Feature  Categorical        None   \n",
            "7      Country  Feature  Categorical        None   \n",
            "\n",
            "                                         description     units missing_values  \n",
            "0  a 6-digit integral number uniquely assigned to...      None             no  \n",
            "1  a 5-digit integral number uniquely assigned to...      None             no  \n",
            "2                                       product name      None             no  \n",
            "3  the quantities of each product (item) per tran...      None             no  \n",
            "4  the day and time when each transaction was gen...      None             no  \n",
            "5                             product price per unit  sterling             no  \n",
            "6  a 5-digit integral number uniquely assigned to...      None             no  \n",
            "7  the name of the country where each customer re...      None             no  \n"
          ]
        }
      ]
    },
    {
      "cell_type": "code",
      "source": [
        "import pandas as pd\n",
        "\n",
        "# Fetch the dataset\n",
        "online_retail = fetch_ucirepo(id=352)\n",
        "\n",
        "# Data (as pandas DataFrame)\n",
        "df = online_retail.data.features  # Use 'features' to get the data\n",
        "\n",
        "# Q1.1: Clean the dataset\n",
        "# Check for missing values\n",
        "missing_values = df.isnull().sum()\n",
        "print(\"Missing values per column:\\n\", missing_values)\n",
        "\n",
        "# Drop rows with missing CustomerID or Description, which are essential\n",
        "df = df.dropna(subset=['CustomerID', 'Description'])\n",
        "\n",
        "# Remove duplicates\n",
        "df = df.drop_duplicates()\n",
        "\n",
        "# Remove rows with negative quantities\n",
        "df = df[df['Quantity'] > 0]\n",
        "\n",
        "# Display the cleaned dataset\n",
        "print(\"Cleaned Dataset Head:\\n\", df.head())\n"
      ],
      "metadata": {
        "colab": {
          "base_uri": "https://localhost:8080/"
        },
        "id": "huzqwhYsahIl",
        "outputId": "2cd7c4a3-2790-4388-cc58-1f26fb3039d2"
      },
      "execution_count": 11,
      "outputs": [
        {
          "output_type": "stream",
          "name": "stdout",
          "text": [
            "Missing values per column:\n",
            " Description      1454\n",
            "Quantity            0\n",
            "InvoiceDate         0\n",
            "UnitPrice           0\n",
            "CustomerID     135080\n",
            "Country             0\n",
            "dtype: int64\n",
            "Cleaned Dataset Head:\n",
            "                            Description  Quantity     InvoiceDate  UnitPrice  \\\n",
            "0   WHITE HANGING HEART T-LIGHT HOLDER         6  12/1/2010 8:26       2.55   \n",
            "1                  WHITE METAL LANTERN         6  12/1/2010 8:26       3.39   \n",
            "2       CREAM CUPID HEARTS COAT HANGER         8  12/1/2010 8:26       2.75   \n",
            "3  KNITTED UNION FLAG HOT WATER BOTTLE         6  12/1/2010 8:26       3.39   \n",
            "4       RED WOOLLY HOTTIE WHITE HEART.         6  12/1/2010 8:26       3.39   \n",
            "\n",
            "   CustomerID         Country  \n",
            "0     17850.0  United Kingdom  \n",
            "1     17850.0  United Kingdom  \n",
            "2     17850.0  United Kingdom  \n",
            "3     17850.0  United Kingdom  \n",
            "4     17850.0  United Kingdom  \n"
          ]
        }
      ]
    },
    {
      "cell_type": "markdown",
      "source": [
        "The dataset is does not have missing values, does not contain duplicate or irrelevant entries. Proper data cleaning improves the quality of the dataset, leading to more accurate insights and inferences"
      ],
      "metadata": {
        "id": "Y6TYEE8odI8S"
      }
    },
    {
      "cell_type": "code",
      "source": [
        "# Q1.2: Descriptive statistics for relevant columns\n",
        "desc_stats = df[['Quantity', 'UnitPrice']].describe()\n",
        "print(\"Descriptive Statistics:\\n\", desc_stats)\n",
        "\n",
        "# Convert 'InvoiceDate' to datetime format if not already\n",
        "df['InvoiceDate'] = pd.to_datetime(df['InvoiceDate'])\n",
        "\n",
        "# Extract month and year for further analysis\n",
        "df['Month'] = df['InvoiceDate'].dt.to_period('M')\n"
      ],
      "metadata": {
        "colab": {
          "base_uri": "https://localhost:8080/"
        },
        "id": "eh6o0O55aHRm",
        "outputId": "86a23c92-284e-4294-fc93-e4e6d9a36462"
      },
      "execution_count": 12,
      "outputs": [
        {
          "output_type": "stream",
          "name": "stdout",
          "text": [
            "Descriptive Statistics:\n",
            "             Quantity      UnitPrice\n",
            "count  392657.000000  392657.000000\n",
            "mean       13.154282       3.125758\n",
            "std       181.605406      22.242808\n",
            "min         1.000000       0.000000\n",
            "25%         2.000000       1.250000\n",
            "50%         6.000000       1.950000\n",
            "75%        12.000000       3.750000\n",
            "max     80995.000000    8142.750000\n"
          ]
        }
      ]
    },
    {
      "cell_type": "markdown",
      "source": [
        "The descriptive statistics for the Quantity and UnitPrice columns provide a summary of the distribution of these variables.\n",
        "\n",
        "Quantity Distribution:\n",
        "\n",
        "High Variability: The standard deviation of 181.61 compared to the mean of 13.15 indicates that there is significant variability in the quantity of items per transaction. Some transactions involve very large quantities, as evidenced by the maximum value of 80,995.\n",
        "Outliers: The high maximum value suggests that there might be some outliers or bulk purchases which are much larger than typical transactions.\n",
        "Central Tendency: Most transactions involve a relatively small number of items, with 75% of transactions having 12 or fewer items.\n",
        "\n",
        "UnitPrice Distribution:\n",
        "\n",
        "High Variability: The standard deviation of 22.24 is quite high compared to the mean unit price of 3.13, indicating a wide range of prices. The maximum unit price of 8,142.75 is significantly higher than the 75th percentile value of 3.75, suggesting the presence of high-priced items or potential pricing errors.\n",
        "Central Tendency: The median price of 1.95 indicates that the majority of transactions are for items priced around this amount, while the mean is higher due to a few extremely high-priced items."
      ],
      "metadata": {
        "id": "DNt7kddadxSf"
      }
    },
    {
      "cell_type": "code",
      "source": [
        "# Q2.1: Top 10 best-selling products by quantity\n",
        "top_products = df.groupby('Description')['Quantity'].sum().nlargest(10)\n",
        "print(\"Top 10 Best-Selling Products:\\n\", top_products)\n"
      ],
      "metadata": {
        "colab": {
          "base_uri": "https://localhost:8080/"
        },
        "id": "0yCpH8f0axfx",
        "outputId": "4d84ede3-c971-4e00-cc7a-9b06209fb206"
      },
      "execution_count": 13,
      "outputs": [
        {
          "output_type": "stream",
          "name": "stdout",
          "text": [
            "Top 10 Best-Selling Products:\n",
            " Description\n",
            "PAPER CRAFT , LITTLE BIRDIE           80995\n",
            "MEDIUM CERAMIC TOP STORAGE JAR        77916\n",
            "WORLD WAR 2 GLIDERS ASSTD DESIGNS     54319\n",
            "JUMBO BAG RED RETROSPOT               46078\n",
            "WHITE HANGING HEART T-LIGHT HOLDER    36706\n",
            "ASSORTED COLOUR BIRD ORNAMENT         35263\n",
            "PACK OF 72 RETROSPOT CAKE CASES       33670\n",
            "POPCORN HOLDER                        30915\n",
            "RABBIT NIGHT LIGHT                    27153\n",
            "MINI PAINT SET VINTAGE                26076\n",
            "Name: Quantity, dtype: int64\n"
          ]
        }
      ]
    },
    {
      "cell_type": "markdown",
      "source": [
        "This analysis provides a clear picture of which products are driving the most sales by quantity."
      ],
      "metadata": {
        "id": "jygHqkaYeb2K"
      }
    },
    {
      "cell_type": "code",
      "source": [
        "# Calculate total sales per product\n",
        "df['TotalSales'] = df['Quantity'] * df['UnitPrice']\n",
        "\n",
        "# Q2.2: Total revenue generated by each product\n",
        "product_revenue = df.groupby('Description')['TotalSales'].sum().sort_values(ascending=False)\n",
        "print(\"Total Revenue by Each Product:\\n\", product_revenue)\n"
      ],
      "metadata": {
        "colab": {
          "base_uri": "https://localhost:8080/"
        },
        "id": "Bh9NzX0Iaz1u",
        "outputId": "bb0276b2-fa11-4ebe-b08c-73767f5549f5"
      },
      "execution_count": 14,
      "outputs": [
        {
          "output_type": "stream",
          "name": "stdout",
          "text": [
            "Total Revenue by Each Product:\n",
            " Description\n",
            "PAPER CRAFT , LITTLE BIRDIE           168469.600\n",
            "REGENCY CAKESTAND 3 TIER              142264.750\n",
            "WHITE HANGING HEART T-LIGHT HOLDER    100392.100\n",
            "JUMBO BAG RED RETROSPOT                85040.540\n",
            "MEDIUM CERAMIC TOP STORAGE JAR         81416.730\n",
            "                                         ...    \n",
            "PURPLE FRANGIPANI HAIRCLIP                 0.850\n",
            "VINTAGE BLUE TINSEL REEL                   0.840\n",
            "SET 12 COLOURING PENCILS DOILEY            0.650\n",
            "HEN HOUSE W CHICK IN NEST                  0.420\n",
            "PADS TO MATCH ALL CUSHIONS                 0.003\n",
            "Name: TotalSales, Length: 3877, dtype: float64\n"
          ]
        }
      ]
    },
    {
      "cell_type": "markdown",
      "source": [
        "The top products by total revenue, such as \"PAPER CRAFT, LITTLE BIRDIE\" and \"REGENCY CAKESTAND 3 TIER,\" are significant revenue contributors. These products are likely popular and/or priced higher, leading to substantial revenue generation. Products like \"PADS TO MATCH ALL CUSHIONS\" and \"HEN HOUSE W CHICK IN NEST\" contribute very little to total revenue. These might be niche items or have low sales volumes. This analysis highlights the disparity in revenue among products."
      ],
      "metadata": {
        "id": "fZy1MhXyepcz"
      }
    },
    {
      "cell_type": "code",
      "source": [
        "# Q2.3: Monthly revenue trend\n",
        "monthly_revenue = df.groupby('Month')['TotalSales'].sum()\n",
        "\n",
        "# Plot the monthly revenue trend\n",
        "monthly_revenue.plot(kind='line', title='Monthly Revenue Trend', xlabel='Month', ylabel='Revenue')\n"
      ],
      "metadata": {
        "colab": {
          "base_uri": "https://localhost:8080/",
          "height": 506
        },
        "id": "go2VERUXa3Eo",
        "outputId": "ee9d5500-ea5a-4814-dcee-96edce4228a0"
      },
      "execution_count": 15,
      "outputs": [
        {
          "output_type": "execute_result",
          "data": {
            "text/plain": [
              "<Axes: title={'center': 'Monthly Revenue Trend'}, xlabel='Month', ylabel='Revenue'>"
            ]
          },
          "metadata": {},
          "execution_count": 15
        },
        {
          "output_type": "display_data",
          "data": {
            "text/plain": [
              "<Figure size 640x480 with 1 Axes>"
            ],
            "image/png": "[encoded data removed]"
          },
          "metadata": {}
        }
      ]
    },
    {
      "cell_type": "markdown",
      "source": [
        "There is a noticeable dip in revenue from January to March.  From April to August, there’s a steady increase, with some fluctuations, peaking in July. Revenue surges between September and November, peaking sharply in November. After the peak in November, there is a sharp decline in revenue in December."
      ],
      "metadata": {
        "id": "HMzUz5L6f8hR"
      }
    },
    {
      "cell_type": "code",
      "source": [
        "# Q3.1 Alternative: Number of unique customers\n",
        "unique_customers = df['CustomerID'].nunique()\n",
        "print(\"Unique Customers:\", unique_customers)\n",
        "\n",
        "# Total transactions per customer\n",
        "transactions_per_customer = df['CustomerID'].value_counts()\n",
        "repeat_customers_count = transactions_per_customer[transactions_per_customer > 1].count()\n",
        "repeat_sales_percentage = (repeat_customers_count / unique_customers) * 100\n",
        "\n",
        "print(\"Number of Repeat Customers:\", repeat_customers_count)\n",
        "print(\"Percentage of Repeat Customers:\", repeat_sales_percentage)\n"
      ],
      "metadata": {
        "colab": {
          "base_uri": "https://localhost:8080/"
        },
        "id": "_53p0fWGa3lx",
        "outputId": "3cbe881a-5b8d-40a6-8a4e-b46cbe1e84a2"
      },
      "execution_count": 21,
      "outputs": [
        {
          "output_type": "stream",
          "name": "stdout",
          "text": [
            "Unique Customers: 4339\n",
            "Number of Repeat Customers: 4267\n",
            "Percentage of Repeat Customers: 98.34063148190828\n"
          ]
        }
      ]
    },
    {
      "cell_type": "code",
      "source": [
        "# Convert 'InvoiceDate' to datetime if it isn't already\n",
        "df['InvoiceDate'] = pd.to_datetime(df['InvoiceDate'])\n",
        "\n",
        "# Extract the month from 'InvoiceDate' if not already done\n",
        "df['Month'] = df['InvoiceDate'].dt.to_period('M')\n",
        "\n",
        "# Q2.3: Monthly revenue trend\n",
        "monthly_revenue = df.groupby('Month')['TotalSales'].sum()\n",
        "\n",
        "# Plot the monthly revenue trend\n",
        "monthly_revenue.plot(kind='line', title='Monthly Revenue Trend', xlabel='Month', ylabel='Revenue')\n"
      ],
      "metadata": {
        "colab": {
          "base_uri": "https://localhost:8080/",
          "height": 506
        },
        "id": "teQGY9gBb0LJ",
        "outputId": "ed454667-8c1a-4f54-d89d-e0b14082fb7b"
      },
      "execution_count": 22,
      "outputs": [
        {
          "output_type": "execute_result",
          "data": {
            "text/plain": [
              "<Axes: title={'center': 'Monthly Revenue Trend'}, xlabel='Month', ylabel='Revenue'>"
            ]
          },
          "metadata": {},
          "execution_count": 22
        },
        {
          "output_type": "display_data",
          "data": {
            "text/plain": [
              "<Figure size 640x480 with 1 Axes>"
            ],
            "image/png": "[encoded data removed]"
          },
          "metadata": {}
        }
      ]
    },
    {
      "cell_type": "code",
      "source": [
        "# Q3.3: Countries contributing most to sales revenue\n",
        "country_revenue = df.groupby('Country')['TotalSales'].sum().sort_values(ascending=False)\n",
        "print(\"Sales Revenue by Country:\\n\", country_revenue)\n"
      ],
      "metadata": {
        "colab": {
          "base_uri": "https://localhost:8080/"
        },
        "id": "QzDlL9dxcTIz",
        "outputId": "425d136c-3e0c-4708-de54-4ca7b7c7e840"
      },
      "execution_count": 23,
      "outputs": [
        {
          "output_type": "stream",
          "name": "stdout",
          "text": [
            "Sales Revenue by Country:\n",
            " Country\n",
            "United Kingdom          7283438.304\n",
            "Netherlands              285446.340\n",
            "EIRE                     265262.460\n",
            "Germany                  228660.400\n",
            "France                   208934.310\n",
            "Australia                138453.810\n",
            "Spain                     61558.560\n",
            "Switzerland               56443.950\n",
            "Belgium                   41196.340\n",
            "Sweden                    38367.830\n",
            "Japan                     37416.370\n",
            "Norway                    36165.440\n",
            "Portugal                  33375.840\n",
            "Finland                   22546.080\n",
            "Singapore                 21279.290\n",
            "Channel Islands           20440.540\n",
            "Denmark                   18955.340\n",
            "Italy                     17483.240\n",
            "Cyprus                    13494.450\n",
            "Austria                   10198.680\n",
            "Poland                     7334.650\n",
            "Israel                     7205.840\n",
            "Greece                     4760.520\n",
            "Iceland                    4310.000\n",
            "Canada                     3666.380\n",
            "USA                        3580.390\n",
            "Malta                      2725.590\n",
            "Unspecified                2660.770\n",
            "United Arab Emirates       1902.280\n",
            "Lebanon                    1693.880\n",
            "Lithuania                  1661.060\n",
            "European Community         1300.250\n",
            "Brazil                     1143.600\n",
            "RSA                        1002.310\n",
            "Czech Republic              826.740\n",
            "Bahrain                     548.400\n",
            "Saudi Arabia                145.920\n",
            "Name: TotalSales, dtype: float64\n"
          ]
        }
      ]
    },
    {
      "cell_type": "code",
      "source": [
        "# Q4.1: Calculate the average revenue per transaction by country\n",
        "\n",
        "# Total revenue and transaction count by country\n",
        "country_revenue = df.groupby('Country')['TotalSales'].sum()\n",
        "country_transactions = df.groupby('Country').size()\n",
        "\n",
        "# Average revenue per transaction for each country\n",
        "average_revenue_per_transaction = country_revenue / country_transactions\n",
        "\n",
        "# Get the top 5 countries with the highest average revenue per transaction\n",
        "top_5_countries = average_revenue_per_transaction.sort_values(ascending=False).head(5)\n",
        "\n",
        "print(\"Top 5 Countries with Highest Average Revenue per Transaction:\\n\", top_5_countries)\n"
      ],
      "metadata": {
        "colab": {
          "base_uri": "https://localhost:8080/"
        },
        "id": "4DqvfAXOcQn1",
        "outputId": "84362c7b-2526-41ef-842d-97034f342911"
      },
      "execution_count": 24,
      "outputs": [
        {
          "output_type": "stream",
          "name": "stdout",
          "text": [
            "Top 5 Countries with Highest Average Revenue per Transaction:\n",
            " Country\n",
            "Netherlands    120.798282\n",
            "Australia      116.937340\n",
            "Japan          116.561900\n",
            "Singapore       95.852658\n",
            "Sweden          85.261844\n",
            "dtype: float64\n"
          ]
        }
      ]
    },
    {
      "cell_type": "code",
      "source": [
        "import pandas as pd\n",
        "\n",
        "# Ensure 'InvoiceDate' is in datetime format\n",
        "df['InvoiceDate'] = pd.to_datetime(df['InvoiceDate'])\n",
        "\n",
        "# Extract the month and season from the 'InvoiceDate'\n",
        "df['Month'] = df['InvoiceDate'].dt.month\n",
        "df['Season'] = df['InvoiceDate'].dt.month % 12 // 3 + 1  # Convert month to season (1: Winter, 2: Spring, 3: Summer, 4: Fall)\n",
        "\n",
        "# Group by 'Description' (product name) and 'Month' to get total sales per product per month\n",
        "monthly_product_sales = df.groupby(['Description', 'Month'])['TotalSales'].sum().reset_index()\n",
        "\n",
        "# Find products with peak performance in specific months\n",
        "peak_products_by_month = monthly_product_sales.sort_values(by='TotalSales', ascending=False).groupby('Description').head(3)\n",
        "\n",
        "print(\"Products with Peak Performance in Specific Months:\\n\", peak_products_by_month)\n",
        "\n",
        "# Group by 'Description' (product name) and 'Season' to get total sales per product per season\n",
        "seasonal_product_sales = df.groupby(['Description', 'Season'])['TotalSales'].sum().reset_index()\n",
        "\n",
        "# Find products with peak performance in specific seasons\n",
        "peak_products_by_season = seasonal_product_sales.sort_values(by='TotalSales', ascending=False).groupby('Description').head(3)\n",
        "\n",
        "print(\"Products with Peak Performance in Specific Seasons:\\n\", peak_products_by_season)\n",
        "\n"
      ],
      "metadata": {
        "colab": {
          "base_uri": "https://localhost:8080/"
        },
        "id": "8p-HO4X2cbQ7",
        "outputId": "a427bf85-099f-4665-a1e2-9009b786d31e"
      },
      "execution_count": 26,
      "outputs": [
        {
          "output_type": "stream",
          "name": "stdout",
          "text": [
            "Products with Peak Performance in Specific Months:\n",
            "                              Description  Month  TotalSales\n",
            "17449        PAPER CRAFT , LITTLE BIRDIE     12  168469.600\n",
            "14892     MEDIUM CERAMIC TOP STORAGE JAR      1   77183.600\n",
            "18057     PICNIC BASKET WICKER 60 PIECES      6   39619.500\n",
            "19765                 RABBIT NIGHT LIGHT     11   23190.410\n",
            "20812           REGENCY CAKESTAND 3 TIER     12   22113.780\n",
            "...                                  ...    ...         ...\n",
            "1024          ACRYLIC JEWEL ICICLE, BLUE     11       0.380\n",
            "11826  HAPPY BIRTHDAY CARD STRIPEY TEDDY     11       0.190\n",
            "17135         PADS TO MATCH ALL CUSHIONS      9       0.001\n",
            "17134         PADS TO MATCH ALL CUSHIONS      7       0.001\n",
            "17133         PADS TO MATCH ALL CUSHIONS      4       0.001\n",
            "\n",
            "[10722 rows x 3 columns]\n",
            "Products with Peak Performance in Specific Seasons:\n",
            "                             Description  Season  TotalSales\n",
            "7284        PAPER CRAFT , LITTLE BIRDIE       1  168469.600\n",
            "6225     MEDIUM CERAMIC TOP STORAGE JAR       1   77387.110\n",
            "8687           REGENCY CAKESTAND 3 TIER       1   42438.930\n",
            "7535     PICNIC BASKET WICKER 60 PIECES       3   39619.500\n",
            "8688           REGENCY CAKESTAND 3 TIER       2   39009.750\n",
            "...                                 ...     ...         ...\n",
            "130               3 BIRDS CANVAS SCREEN       3       0.390\n",
            "4954  HAPPY BIRTHDAY CARD STRIPEY TEDDY       4       0.190\n",
            "7147         PADS TO MATCH ALL CUSHIONS       2       0.001\n",
            "7148         PADS TO MATCH ALL CUSHIONS       3       0.001\n",
            "7149         PADS TO MATCH ALL CUSHIONS       4       0.001\n",
            "\n",
            "[10061 rows x 3 columns]\n"
          ]
        }
      ]
    },
    {
      "cell_type": "markdown",
      "source": [
        "Top-Performing Products in Specific Months,\n",
        "\n",
        "December: PAPER CRAFT, LITTLE BIRDIE generated the highest sales in December, with a total sales value of 168,469.60. This might suggest strong holiday demand for craft or decorative items.\n",
        "REGENCY CAKESTAND 3 TIER also saw high sales, aligning with the holiday season when more people are likely to host events or parties requiring such items.\n",
        "\n",
        "January: MEDIUM CERAMIC TOP STORAGE JAR had significant sales in January, with 77,183.60. This could indicate a post-holiday surge in storage-related items as people organize after the holidays.\n",
        "\n",
        "June: PICNIC BASKET WICKER 60 PIECES saw its peak in June (39,619.50), likely due to the summer season when outdoor activities like picnics are more common.\n",
        "\n",
        "November: RABBIT NIGHT LIGHT performed well in November, with 23,190.41 in sales. Given that this is a decorative or gift item, it aligns with pre-holiday shopping.\n",
        "\n",
        "Top-Performing Products in Specific Seasons,\n",
        "\n",
        "Season 1: PAPER CRAFT, LITTLE BIRDIE and MEDIUM CERAMIC TOP STORAGE JAR are standout performers in the winter season. The sales align with the holiday and post-holiday period when people tend to buy decorative and storage products.\n",
        "\n",
        "Season 3: PICNIC BASKET WICKER 60 PIECES performed best in the summer, a time when customers are likely preparing for outdoor gatherings.\n",
        "REGENCY CAKESTAND 3 TIER also performed well, indicating a preference for elegant dining or outdoor events."
      ],
      "metadata": {
        "id": "eekSJLaFg64B"
      }
    },
    {
      "cell_type": "code",
      "source": [],
      "metadata": {
        "id": "9UvHAIqUcdpI"
      },
      "execution_count": null,
      "outputs": []
    }
  ]
}